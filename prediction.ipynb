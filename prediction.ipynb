{
 "cells": [
  {
   "cell_type": "code",
   "execution_count": 11,
   "id": "global-cutting",
   "metadata": {},
   "outputs": [
    {
     "name": "stdout",
     "output_type": "stream",
     "text": [
      " * Serving Flask app \"__main__\" (lazy loading)\n",
      " * Environment: production\n",
      "   WARNING: This is a development server. Do not use it in a production deployment.\n",
      "   Use a production WSGI server instead.\n",
      " * Debug mode: off\n"
     ]
    },
    {
     "name": "stderr",
     "output_type": "stream",
     "text": [
      "INFO:werkzeug: * Running on http://127.0.0.1:5000/ (Press CTRL+C to quit)\n",
      "INFO:werkzeug:127.0.0.1 - - [08/May/2021 00:29:42] \"\u001b[37mPOST / HTTP/1.1\u001b[0m\" 200 -\n",
      "INFO:werkzeug:127.0.0.1 - - [08/May/2021 00:29:42] \"\u001b[37mGET /static/auntminnie-d-2020_01_28_23_51_6665_2020_01_28_Vietnam_coronavirus.jpeg HTTP/1.1\u001b[0m\" 200 -\n",
      "INFO:werkzeug:127.0.0.1 - - [08/May/2021 00:29:45] \"\u001b[37mGET / HTTP/1.1\u001b[0m\" 200 -\n",
      "INFO:werkzeug:127.0.0.1 - - [08/May/2021 00:34:02] \"\u001b[37mPOST / HTTP/1.1\u001b[0m\" 200 -\n",
      "INFO:werkzeug:127.0.0.1 - - [08/May/2021 00:34:15] \"\u001b[37mGET /static/88de9d8c39e946abd495b37cd07d89e5-6531-0.jpg HTTP/1.1\u001b[0m\" 200 -\n",
      "INFO:werkzeug:127.0.0.1 - - [08/May/2021 00:34:37] \"\u001b[37mPOST / HTTP/1.1\u001b[0m\" 200 -\n",
      "INFO:werkzeug:127.0.0.1 - - [08/May/2021 00:34:37] \"\u001b[37mGET /static/NORMAL2-IM-0730-0001.jpeg HTTP/1.1\u001b[0m\" 200 -\n",
      "INFO:werkzeug:127.0.0.1 - - [08/May/2021 00:34:37] \"\u001b[33mGET /favicon.ico HTTP/1.1\u001b[0m\" 404 -\n",
      "INFO:werkzeug:127.0.0.1 - - [08/May/2021 00:38:06] \"\u001b[37mPOST / HTTP/1.1\u001b[0m\" 200 -\n",
      "INFO:werkzeug:127.0.0.1 - - [08/May/2021 00:38:07] \"\u001b[37mGET /static/NORMAL2-IM-0730-0001.jpeg HTTP/1.1\u001b[0m\" 200 -\n",
      "INFO:werkzeug:127.0.0.1 - - [08/May/2021 00:38:20] \"\u001b[37mGET / HTTP/1.1\u001b[0m\" 200 -\n",
      "INFO:werkzeug:127.0.0.1 - - [08/May/2021 00:38:24] \"\u001b[33mGET /favicon.ico HTTP/1.1\u001b[0m\" 404 -\n",
      "INFO:werkzeug:127.0.0.1 - - [08/May/2021 00:39:14] \"\u001b[37mPOST / HTTP/1.1\u001b[0m\" 200 -\n",
      "INFO:werkzeug:127.0.0.1 - - [08/May/2021 00:39:15] \"\u001b[37mGET /static/7C69C012-7479-493F-8722-ABC29C60A2DD.jpeg HTTP/1.1\u001b[0m\" 200 -\n",
      "INFO:werkzeug:127.0.0.1 - - [08/May/2021 00:39:29] \"\u001b[37mPOST / HTTP/1.1\u001b[0m\" 200 -\n",
      "INFO:werkzeug:127.0.0.1 - - [08/May/2021 00:39:29] \"\u001b[37mGET /static/NORMAL2-IM-0914-0001.jpeg HTTP/1.1\u001b[0m\" 200 -\n",
      "INFO:werkzeug:127.0.0.1 - - [08/May/2021 00:39:41] \"\u001b[37mPOST / HTTP/1.1\u001b[0m\" 200 -\n",
      "INFO:werkzeug:127.0.0.1 - - [08/May/2021 00:39:41] \"\u001b[37mGET /static/covid-19-pneumonia-53.jpg HTTP/1.1\u001b[0m\" 200 -\n"
     ]
    }
   ],
   "source": [
    "from flask import Flask, render_template, redirect, request\n",
    "import numpy as np\n",
    "import keras\n",
    "from keras.models import Sequential\n",
    "from tensorflow.keras import layers\n",
    "from tensorflow.keras.preprocessing import image\n",
    "\n",
    "model = keras.models.load_model(\"model.h5\")\n",
    "\n",
    "\n",
    "# __name__ == __main__\n",
    "app = Flask(__name__)\n",
    "\n",
    "\n",
    "@app.route('/')\n",
    "def hello():\n",
    "    return render_template(\"index.html\")\n",
    "\n",
    "\n",
    "@app.route('/', methods=['POST'])\n",
    "def marks():\n",
    "    if request.method == 'POST':\n",
    "        f = request.files['userfile']\n",
    "        path = \"./static/{}\".format(f.filename)  # ./static/images.jpg\n",
    "        f.save(path)\n",
    "        img = image.load_img(path, target_size=(256, 256))\n",
    "    img = np.reshape(img, (1, 256, 256, 3))\n",
    "    label_map = {'Covid Positive': 0, 'Covid Negative': 1}\n",
    "    key_list = list(label_map.keys())\n",
    "    pred = int(model.predict(img)[0][0])\n",
    "    result_dic = {\n",
    "        'image': path,\n",
    "        'caption': key_list[pred]\n",
    "    }\n",
    "\n",
    "    return render_template(\"index.html\", your_result=result_dic)\n",
    "\n",
    "\n",
    "if __name__ == '__main__':\n",
    "    # app.debug = True\n",
    "    # due to versions of keras we need to pass another paramter threaded = Flase to this run function\n",
    "    app.run(debug=False, threaded=False)"
   ]
  },
  {
   "cell_type": "code",
   "execution_count": null,
   "id": "central-pontiac",
   "metadata": {},
   "outputs": [],
   "source": []
  }
 ],
 "metadata": {
  "kernelspec": {
   "display_name": "Python 3",
   "language": "python",
   "name": "python3"
  },
  "language_info": {
   "codemirror_mode": {
    "name": "ipython",
    "version": 3
   },
   "file_extension": ".py",
   "mimetype": "text/x-python",
   "name": "python",
   "nbconvert_exporter": "python",
   "pygments_lexer": "ipython3",
   "version": "3.8.8"
  }
 },
 "nbformat": 4,
 "nbformat_minor": 5
}
